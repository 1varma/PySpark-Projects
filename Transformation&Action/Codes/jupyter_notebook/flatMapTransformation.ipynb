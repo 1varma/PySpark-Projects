{
 "cells": [
  {
   "cell_type": "code",
   "execution_count": 1,
   "id": "f2c8c580",
   "metadata": {},
   "outputs": [],
   "source": [
    "from pyspark.sql import SparkSession"
   ]
  },
  {
   "cell_type": "code",
   "execution_count": 2,
   "id": "06b7bec0",
   "metadata": {},
   "outputs": [],
   "source": [
    "spark = SparkSession.builder.appName('abc').getOrCreate()"
   ]
  },
  {
   "cell_type": "code",
   "execution_count": 3,
   "id": "bf25ceb7",
   "metadata": {},
   "outputs": [],
   "source": [
    "sc = spark.sparkContext"
   ]
  },
  {
   "cell_type": "code",
   "execution_count": 4,
   "id": "4e61c484",
   "metadata": {},
   "outputs": [],
   "source": [
    "rdd1 = sc.parallelize([\"b\", \"a\", \"c\"])"
   ]
  },
  {
   "cell_type": "code",
   "execution_count": 5,
   "id": "f6989d70",
   "metadata": {},
   "outputs": [],
   "source": [
    "fmapRdd = rdd1.flatMap(lambda x: (x, 1))"
   ]
  },
  {
   "cell_type": "code",
   "execution_count": 6,
   "id": "6ca63a51",
   "metadata": {},
   "outputs": [
    {
     "data": {
      "text/plain": [
       "['b', 1, 'a', 1, 'c', 1]"
      ]
     },
     "execution_count": 6,
     "metadata": {},
     "output_type": "execute_result"
    }
   ],
   "source": [
    "fmapRdd.collect()"
   ]
  }
 ],
 "metadata": {
  "kernelspec": {
   "display_name": "pysparkVenv",
   "language": "python",
   "name": "python3"
  },
  "language_info": {
   "codemirror_mode": {
    "name": "ipython",
    "version": 3
   },
   "file_extension": ".py",
   "mimetype": "text/x-python",
   "name": "python",
   "nbconvert_exporter": "python",
   "pygments_lexer": "ipython3",
   "version": "3.10.0"
  }
 },
 "nbformat": 4,
 "nbformat_minor": 5
}
