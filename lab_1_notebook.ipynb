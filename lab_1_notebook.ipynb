{
 "cells": [
  {
   "attachments": {},
   "cell_type": "markdown",
   "metadata": {},
   "source": [
    "## Data discovery: Load and query Yellow Taxi data\n",
    "> Download the dataset from [the official TLC Trip Record Data website](https://www.nyc.gov/site/tlc/about/tlc-trip-record-data.page)"
   ]
  },
  {
   "cell_type": "markdown",
   "metadata": {},
   "source": [
    "---"
   ]
  },
  {
   "attachments": {},
   "cell_type": "markdown",
   "metadata": {},
   "source": [
    "### This cell only shows how to document code\n",
    "```python\n",
    "# Load file\n",
    "local_file = 'datasets/your-downloaded-from-TLC-taxis-file-here.parquet'\n",
    "\n",
    "# Show data\n",
    "spark.read.parquet(local_file).show()\n",
    "```"
   ]
  },
  {
   "cell_type": "code",
   "execution_count": 1,
   "metadata": {},
   "outputs": [],
   "source": [
    "from pyspark.sql import SparkSession\n",
    "from pyspark.sql.functions import to_date, col"
   ]
  },
  {
   "attachments": {},
   "cell_type": "markdown",
   "metadata": {},
   "source": [
    "### What is master(local N)?\n",
    "The --master option specifies the master URL for a distributed cluster, or local to run locally with one thread, or local[N] to run locally with N threads.\n",
    "\n",
    "<b>Source</b>: See Spark [docs here](spark.apache.org/docs/latest). See all [options here](https://spark.apache.org/docs/latest/submitting-applications.html#master-urls)"
   ]
  },
  {
   "cell_type": "code",
   "execution_count": 2,
   "metadata": {},
   "outputs": [],
   "source": [
    "# Create SparkSession\n",
    "spark = SparkSession.builder\\\n",
    "             .master(\"local[1]\")\\\n",
    "             .appName(\"spark-app-version-x\")\\\n",
    "             .getOrCreate()"
   ]
  },
  {
   "cell_type": "code",
   "execution_count": 3,
   "metadata": {},
   "outputs": [],
   "source": [
    "# Read taxi data\n",
    "local_files = 'datasets/parquet/'\n",
    "df = spark.read.parquet(local_files)"
   ]
  },
  {
   "cell_type": "code",
   "execution_count": 4,
   "metadata": {},
   "outputs": [
    {
     "name": "stdout",
     "output_type": "stream",
     "text": [
      "root\n",
      " |-- VendorID: integer (nullable = true)\n",
      " |-- tpep_pickup_datetime: timestamp_ntz (nullable = true)\n",
      " |-- tpep_dropoff_datetime: timestamp_ntz (nullable = true)\n",
      " |-- passenger_count: long (nullable = true)\n",
      " |-- trip_distance: double (nullable = true)\n",
      " |-- RatecodeID: long (nullable = true)\n",
      " |-- store_and_fwd_flag: string (nullable = true)\n",
      " |-- PULocationID: integer (nullable = true)\n",
      " |-- DOLocationID: integer (nullable = true)\n",
      " |-- payment_type: long (nullable = true)\n",
      " |-- fare_amount: double (nullable = true)\n",
      " |-- extra: double (nullable = true)\n",
      " |-- mta_tax: double (nullable = true)\n",
      " |-- tip_amount: double (nullable = true)\n",
      " |-- tolls_amount: double (nullable = true)\n",
      " |-- improvement_surcharge: double (nullable = true)\n",
      " |-- total_amount: double (nullable = true)\n",
      " |-- congestion_surcharge: double (nullable = true)\n",
      " |-- Airport_fee: double (nullable = true)\n",
      "\n"
     ]
    }
   ],
   "source": [
    "# DF is like a relation table in memory. Let's see the columns\n",
    "df.printSchema()"
   ]
  },
  {
   "cell_type": "code",
   "execution_count": 5,
   "metadata": {},
   "outputs": [
    {
     "name": "stdout",
     "output_type": "stream",
     "text": [
      "+--------+------------+------------+\n",
      "|VendorID|total_amount|PULocationID|\n",
      "+--------+------------+------------+\n",
      "|       2|        11.1|         238|\n",
      "|       2|       76.49|         138|\n",
      "|       1|       28.05|         140|\n",
      "|       1|        24.7|         140|\n",
      "|       2|       14.64|          79|\n",
      "+--------+------------+------------+\n",
      "only showing top 5 rows\n",
      "\n"
     ]
    }
   ],
   "source": [
    "# Query sample:\n",
    "df.select('VendorID','total_amount', 'PULocationID').show(n=5)"
   ]
  },
  {
   "cell_type": "code",
   "execution_count": 6,
   "metadata": {},
   "outputs": [],
   "source": [
    "# Query sample, using Spark SQL\n",
    "df.createOrReplaceTempView('tbl_raw_yellow_taxis')"
   ]
  },
  {
   "cell_type": "code",
   "execution_count": 13,
   "metadata": {},
   "outputs": [
    {
     "name": "stdout",
     "output_type": "stream",
     "text": [
      "+--------+--------------------+---------------+\n",
      "|VendorID|tpep_pickup_datetime|passenger_count|\n",
      "+--------+--------------------+---------------+\n",
      "|       2| 2023-03-01 00:22:22|              5|\n",
      "|       2| 2023-03-01 00:33:12|              3|\n",
      "|       2| 2023-03-01 00:11:32|              4|\n",
      "|       2| 2023-03-01 00:08:01|              3|\n",
      "|       2| 2023-03-01 00:02:37|              4|\n",
      "+--------+--------------------+---------------+\n",
      "only showing top 5 rows\n",
      "\n"
     ]
    }
   ],
   "source": [
    "spark.sql('''\n",
    "            select VendorID, tpep_pickup_datetime, passenger_count\n",
    "            from tbl_raw_yellow_taxis\n",
    "            where total_amount > 1 and passenger_count >2\n",
    "        ''').show(n=5)"
   ]
  },
  {
   "cell_type": "code",
   "execution_count": 7,
   "metadata": {},
   "outputs": [
    {
     "name": "stdout",
     "output_type": "stream",
     "text": [
      "+-------------------------+--------------------------+\n",
      "|min(tpep_pickup_datetime)|max(tpep_dropoff_datetime)|\n",
      "+-------------------------+--------------------------+\n",
      "|      2001-01-01 00:06:49|       2023-05-03 23:19:31|\n",
      "+-------------------------+--------------------------+\n",
      "\n"
     ]
    }
   ],
   "source": [
    "# SQL Statement\n",
    "# PULocationID = 188, 379 rows our of 3,066,766\n",
    "spark.sql('''\n",
    "          select min(tpep_pickup_datetime), max(tpep_dropoff_datetime)\n",
    "          from tbl_raw_yellow_taxis\n",
    "          ''').show(n=5)"
   ]
  },
  {
   "cell_type": "code",
   "execution_count": 20,
   "metadata": {},
   "outputs": [
    {
     "name": "stdout",
     "output_type": "stream",
     "text": [
      "+---------------------------------------+--------+\n",
      "|extract(year FROM tpep_pickup_datetime)|count(1)|\n",
      "+---------------------------------------+--------+\n",
      "|                                   2023| 9605947|\n",
      "|                                   2008|       9|\n",
      "|                                   2001|       6|\n",
      "|                                   2003|       4|\n",
      "|                                   2002|       3|\n",
      "|                                   2014|       1|\n",
      "|                                   2009|       1|\n",
      "+---------------------------------------+--------+\n",
      "\n"
     ]
    }
   ],
   "source": [
    "# SQL Statement\n",
    "spark.sql('''\n",
    "          select extract(year from tpep_pickup_datetime), count(1)\n",
    "          from tbl_raw_yellow_taxis\n",
    "          group by extract(year from tpep_pickup_datetime)\n",
    "          order by count(1) desc\n",
    "          ''').show(n=100)"
   ]
  },
  {
   "cell_type": "code",
   "execution_count": 8,
   "metadata": {},
   "outputs": [
    {
     "name": "stdout",
     "output_type": "stream",
     "text": [
      "+---------------------------------------+--------+\n",
      "|extract(year FROM tpep_pickup_datetime)|count(1)|\n",
      "+---------------------------------------+--------+\n",
      "|                                   2023| 9605947|\n",
      "+---------------------------------------+--------+\n",
      "\n"
     ]
    }
   ],
   "source": [
    "# SQL Statement\n",
    "spark.sql('''\n",
    "          select extract(year from tpep_pickup_datetime), count(1)\n",
    "          from tbl_raw_yellow_taxis\n",
    "          group by extract(year from tpep_pickup_datetime)\n",
    "          having count(1) > 100\n",
    "          ''').show(n=100)"
   ]
  },
  {
   "cell_type": "code",
   "execution_count": 21,
   "metadata": {},
   "outputs": [],
   "source": [
    "# SQL Statement example, using a subquery to clean the data\n",
    "# Use case example: imagine our business users asked to us delete all data if dataset's year has < 100 rows.\n",
    "df_clean_s1 = spark.sql('''\n",
    "          select *\n",
    "          from tbl_raw_yellow_taxis\n",
    "          where extract(year from tpep_pickup_datetime) in\n",
    "                        (select extract(year from tpep_pickup_datetime)\n",
    "                        from tbl_raw_yellow_taxis\n",
    "                        group by extract(year from tpep_pickup_datetime)\n",
    "                        having count(1) > 100\n",
    "                        )\n",
    "          ''')"
   ]
  },
  {
   "cell_type": "code",
   "execution_count": 22,
   "metadata": {},
   "outputs": [],
   "source": [
    "# Register new Temp View, using the cleansed new DataFrame \n",
    "df_clean_s1.createOrReplaceTempView('tbl_raw_yellow_taxis_clean_s1')"
   ]
  },
  {
   "cell_type": "code",
   "execution_count": 24,
   "metadata": {},
   "outputs": [
    {
     "name": "stdout",
     "output_type": "stream",
     "text": [
      "+--------+--------------------+---------------------+---------------+-------------+----------+------------------+------------+------------+------------+-----------+-----+-------+----------+------------+---------------------+------------+--------------------+-----------+\n",
      "|VendorID|tpep_pickup_datetime|tpep_dropoff_datetime|passenger_count|trip_distance|RatecodeID|store_and_fwd_flag|PULocationID|DOLocationID|payment_type|fare_amount|extra|mta_tax|tip_amount|tolls_amount|improvement_surcharge|total_amount|congestion_surcharge|Airport_fee|\n",
      "+--------+--------------------+---------------------+---------------+-------------+----------+------------------+------------+------------+------------+-----------+-----+-------+----------+------------+---------------------+------------+--------------------+-----------+\n",
      "|       2| 2023-03-01 00:06:43|  2023-03-01 00:16:43|              1|          0.0|         1|                 N|         238|          42|           2|        8.6|  1.0|    0.5|       0.0|         0.0|                  1.0|        11.1|                 0.0|        0.0|\n",
      "|       2| 2023-03-01 00:08:25|  2023-03-01 00:39:30|              2|         12.4|         1|                 N|         138|         231|           1|       52.7|  6.0|    0.5|     12.54|         0.0|                  1.0|       76.49|                 2.5|       1.25|\n",
      "|       1| 2023-03-01 00:15:04|  2023-03-01 00:29:26|              0|          3.3|         1|                 N|         140|         186|           1|       18.4|  3.5|    0.5|      4.65|         0.0|                  1.0|       28.05|                 2.5|        0.0|\n",
      "|       1| 2023-03-01 00:49:37|  2023-03-01 01:01:05|              1|          2.9|         1|                 N|         140|          43|           1|       15.6|  3.5|    0.5|       4.1|         0.0|                  1.0|        24.7|                 2.5|        0.0|\n",
      "|       2| 2023-03-01 00:08:04|  2023-03-01 00:11:06|              1|         1.23|         1|                 N|          79|         137|           1|        7.2|  1.0|    0.5|      2.44|         0.0|                  1.0|       14.64|                 2.5|        0.0|\n",
      "|       1| 2023-03-01 00:09:09|  2023-03-01 00:17:34|              1|          1.2|         1|                 N|         162|         137|           1|       10.0|  3.5|    0.5|       3.0|         0.0|                  1.0|        18.0|                 2.5|        0.0|\n",
      "|       1| 2023-03-01 00:32:21|  2023-03-01 00:42:08|              1|          1.8|         1|                 N|         170|          48|           1|       12.1|  3.5|    0.5|       3.4|         0.0|                  1.0|        20.5|                 2.5|        0.0|\n",
      "|       1| 2023-03-01 00:45:12|  2023-03-01 00:52:37|              1|          2.0|         1|                 N|          48|         164|           2|       10.7|  3.5|    0.5|       0.0|         0.0|                  1.0|        15.7|                 2.5|        0.0|\n",
      "|       1| 2023-03-01 00:19:43|  2023-03-01 00:39:37|              1|          5.3|         1|                 N|         113|          61|           1|       26.1|  3.5|    0.5|       9.3|         0.0|                  1.0|        40.4|                 2.5|        0.0|\n",
      "|       2| 2023-03-01 00:08:42|  2023-03-01 00:18:45|              1|         2.27|         1|                 N|         239|         263|           1|       13.5|  1.0|    0.5|       3.7|         0.0|                  1.0|        22.2|                 2.5|        0.0|\n",
      "|       2| 2023-03-01 00:48:06|  2023-03-01 00:57:15|              1|         1.95|         1|                 N|         151|         152|           2|       12.8|  1.0|    0.5|       0.0|         0.0|                  1.0|        15.3|                 0.0|        0.0|\n",
      "|       1| 2023-03-01 00:10:23|  2023-03-01 00:13:06|              1|          0.8|         1|                 N|         161|         237|           1|        5.8|  3.5|    0.5|      2.15|         0.0|                  1.0|       12.95|                 2.5|        0.0|\n",
      "|       2| 2023-03-01 00:22:22|  2023-03-01 00:32:01|              5|         1.17|         1|                 N|         140|         237|           2|       10.0|  1.0|    0.5|       0.0|         0.0|                  1.0|        15.0|                 2.5|        0.0|\n",
      "|       1| 2023-03-01 00:01:34|  2023-03-01 00:16:18|              1|          3.6|         1|                 N|          43|         146|           1|       19.1|  3.5|    0.5|       1.0|         0.0|                  1.0|        25.1|                 2.5|        0.0|\n",
      "|       2| 2023-03-01 00:09:42|  2023-03-01 00:15:50|              1|         1.42|         1|                 N|         261|         114|           1|        9.3|  1.0|    0.5|      2.86|         0.0|                  1.0|       17.16|                 2.5|        0.0|\n",
      "|       2| 2023-03-01 00:45:09|  2023-03-01 00:49:08|              1|         0.53|         1|                 N|         246|          50|           1|        5.8|  1.0|    0.5|      2.16|         0.0|                  1.0|       12.96|                 2.5|        0.0|\n",
      "|       2| 2023-03-01 00:55:38|  2023-03-01 01:06:05|              1|         2.22|         1|                 N|         246|         162|           1|       12.8|  1.0|    0.5|      0.55|         0.0|                  1.0|       18.35|                 2.5|        0.0|\n",
      "|       1| 2023-03-01 00:10:30|  2023-03-01 00:13:49|              1|          1.0|         1|                 N|         170|         234|           1|        6.5|  3.5|    0.5|       2.3|         0.0|                  1.0|        13.8|                 2.5|        0.0|\n",
      "|       1| 2023-03-01 00:20:49|  2023-03-01 00:30:31|              1|          2.0|         1|                 N|         107|          68|           4|       12.1|  3.5|    0.5|       0.0|         0.0|                  1.0|        17.1|                 2.5|        0.0|\n",
      "|       2| 2023-03-01 00:29:18|  2023-03-01 01:06:01|              2|        21.03|         2|                 N|         132|         239|           1|       70.0|  0.0|    0.5|      12.0|        6.55|                  1.0|        93.8|                 2.5|       1.25|\n",
      "+--------+--------------------+---------------------+---------------+-------------+----------+------------------+------------+------------+------------+-----------+-----+-------+----------+------------+---------------------+------------+--------------------+-----------+\n",
      "only showing top 20 rows\n",
      "\n"
     ]
    }
   ],
   "source": [
    "spark.sql('''\n",
    "          select *\n",
    "          from tbl_raw_yellow_taxis_clean_s1\n",
    "          ''').show()"
   ]
  },
  {
   "cell_type": "code",
   "execution_count": 25,
   "metadata": {},
   "outputs": [
    {
     "name": "stdout",
     "output_type": "stream",
     "text": [
      "+-------------------------+--------------------------+\n",
      "|min(tpep_pickup_datetime)|max(tpep_dropoff_datetime)|\n",
      "+-------------------------+--------------------------+\n",
      "|      2023-01-31 23:49:00|       2023-05-03 23:19:31|\n",
      "+-------------------------+--------------------------+\n",
      "\n"
     ]
    }
   ],
   "source": [
    "# SQL Statement\n",
    "spark.sql('''\n",
    "          select min(tpep_pickup_datetime), max(tpep_dropoff_datetime)\n",
    "          from tbl_raw_yellow_taxis_clean_s1\n",
    "          ''').show(n=5)"
   ]
  },
  {
   "cell_type": "markdown",
   "metadata": {},
   "source": [
    "---\n",
    "### If we want to write the output, for example partitioned by date"
   ]
  },
  {
   "cell_type": "code",
   "execution_count": 26,
   "metadata": {},
   "outputs": [],
   "source": [
    "# Create new partition key\n",
    "df_sink = df_clean_s1.withColumn(\"p_date\",to_date(col('tpep_pickup_datetime')))"
   ]
  },
  {
   "cell_type": "code",
   "execution_count": 27,
   "metadata": {},
   "outputs": [],
   "source": [
    "# Write to local storage, if not done already:\n",
    "df_sink.write.partitionBy(\"p_date\").mode(\"overwrite\").parquet(\"datasets/yellow_taxis_daily/\")"
   ]
  },
  {
   "cell_type": "code",
   "execution_count": 28,
   "metadata": {},
   "outputs": [],
   "source": [
    "# Stop the session\n",
    "spark.stop()"
   ]
  },
  {
   "cell_type": "code",
   "execution_count": null,
   "metadata": {},
   "outputs": [],
   "source": []
  }
 ],
 "metadata": {
  "kernelspec": {
   "display_name": "Python 3 (ipykernel)",
   "language": "python",
   "name": "python3"
  },
  "language_info": {
   "codemirror_mode": {
    "name": "ipython",
    "version": 3
   },
   "file_extension": ".py",
   "mimetype": "text/x-python",
   "name": "python",
   "nbconvert_exporter": "python",
   "pygments_lexer": "ipython3",
   "version": "3.8.0"
  }
 },
 "nbformat": 4,
 "nbformat_minor": 4
}
