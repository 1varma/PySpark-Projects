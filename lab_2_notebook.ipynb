{
 "cells": [
  {
   "attachments": {},
   "cell_type": "markdown",
   "metadata": {},
   "source": [
    "## Data discovery: Some SQL Joins examples\n",
    "> Download the dataset from [the official TLC Trip Record Data website](https://www.nyc.gov/site/tlc/about/tlc-trip-record-data.page)"
   ]
  },
  {
   "attachments": {},
   "cell_type": "markdown",
   "metadata": {},
   "source": [
    "### This cell only shows how to document code\n",
    "```python\n",
    "# Load file\n",
    "local_file = 'datasets/your-downloaded-from-TLC-taxis-file-here.parquet'\n",
    "\n",
    "# Show data\n",
    "spark.read.parquet(local_file).show()\n",
    "```"
   ]
  },
  {
   "cell_type": "code",
   "execution_count": 1,
   "metadata": {},
   "outputs": [],
   "source": [
    "from pyspark.sql import SparkSession\n",
    "from pyspark.sql.types import StringType, StructField, StructType"
   ]
  },
  {
   "attachments": {},
   "cell_type": "markdown",
   "metadata": {},
   "source": [
    "### What is master(local N)?\n",
    "The --master option specifies the master URL for a distributed cluster, or local to run locally with one thread, or local[N] to run locally with N threads.\n",
    "\n",
    "<b>Source</b>: See Spark [docs here](spark.apache.org/docs/latest). See all [options here](https://spark.apache.org/docs/latest/submitting-applications.html#master-urls)"
   ]
  },
  {
   "cell_type": "code",
   "execution_count": 2,
   "metadata": {},
   "outputs": [],
   "source": [
    "# Create SparkSession\n",
    "spark = SparkSession.builder\\\n",
    "             .master(\"local[*]\")\\\n",
    "             .appName(\"spark-app-version-x\")\\\n",
    "             .getOrCreate()"
   ]
  },
  {
   "cell_type": "code",
   "execution_count": 3,
   "metadata": {},
   "outputs": [],
   "source": [
    "# Read taxi data\n",
    "local_file = 'datasets/parquet/'\n",
    "df = spark.read.parquet(local_file)"
   ]
  },
  {
   "cell_type": "code",
   "execution_count": 4,
   "metadata": {},
   "outputs": [
    {
     "name": "stdout",
     "output_type": "stream",
     "text": [
      "root\n",
      " |-- VendorID: integer (nullable = true)\n",
      " |-- tpep_pickup_datetime: timestamp_ntz (nullable = true)\n",
      " |-- tpep_dropoff_datetime: timestamp_ntz (nullable = true)\n",
      " |-- passenger_count: long (nullable = true)\n",
      " |-- trip_distance: double (nullable = true)\n",
      " |-- RatecodeID: long (nullable = true)\n",
      " |-- store_and_fwd_flag: string (nullable = true)\n",
      " |-- PULocationID: integer (nullable = true)\n",
      " |-- DOLocationID: integer (nullable = true)\n",
      " |-- payment_type: long (nullable = true)\n",
      " |-- fare_amount: double (nullable = true)\n",
      " |-- extra: double (nullable = true)\n",
      " |-- mta_tax: double (nullable = true)\n",
      " |-- tip_amount: double (nullable = true)\n",
      " |-- tolls_amount: double (nullable = true)\n",
      " |-- improvement_surcharge: double (nullable = true)\n",
      " |-- total_amount: double (nullable = true)\n",
      " |-- congestion_surcharge: double (nullable = true)\n",
      " |-- Airport_fee: double (nullable = true)\n",
      "\n"
     ]
    }
   ],
   "source": [
    "# DF is like a relation table in memory. Let's see the columns\n",
    "df.printSchema()"
   ]
  },
  {
   "cell_type": "code",
   "execution_count": 5,
   "metadata": {},
   "outputs": [],
   "source": [
    "# Query sample, using Spark SQL\n",
    "df.createOrReplaceTempView('tbl_raw_yellow_taxis')"
   ]
  },
  {
   "cell_type": "code",
   "execution_count": 6,
   "metadata": {},
   "outputs": [
    {
     "name": "stdout",
     "output_type": "stream",
     "text": [
      "+--------+--------------------+---------------------+---------------+-------------+----------+------------------+------------+------------+------------+-----------+-----+-------+----------+------------+---------------------+------------+--------------------+-----------+\n",
      "|VendorID|tpep_pickup_datetime|tpep_dropoff_datetime|passenger_count|trip_distance|RatecodeID|store_and_fwd_flag|PULocationID|DOLocationID|payment_type|fare_amount|extra|mta_tax|tip_amount|tolls_amount|improvement_surcharge|total_amount|congestion_surcharge|Airport_fee|\n",
      "+--------+--------------------+---------------------+---------------+-------------+----------+------------------+------------+------------+------------+-----------+-----+-------+----------+------------+---------------------+------------+--------------------+-----------+\n",
      "|       1| 2023-02-01 00:32:53|  2023-02-01 00:34:34|              2|          0.3|         1|                 N|         142|         163|           2|        4.4|  3.5|    0.5|       0.0|         0.0|                  1.0|         9.4|                 2.5|        0.0|\n",
      "|       2| 2023-02-01 00:35:16|  2023-02-01 00:35:30|              1|          0.0|         1|                 N|          71|          71|           4|       -3.0| -1.0|   -0.5|       0.0|         0.0|                 -1.0|        -5.5|                 0.0|        0.0|\n",
      "|       2| 2023-02-01 00:35:16|  2023-02-01 00:35:30|              1|          0.0|         1|                 N|          71|          71|           4|        3.0|  1.0|    0.5|       0.0|         0.0|                  1.0|         5.5|                 0.0|        0.0|\n",
      "|       1| 2023-02-01 00:29:33|  2023-02-01 01:01:38|              0|         18.8|         1|                 N|         132|          26|           1|       70.9| 2.25|    0.5|       0.0|         0.0|                  1.0|       74.65|                 0.0|       1.25|\n",
      "|       2| 2023-02-01 00:12:28|  2023-02-01 00:25:46|              1|         3.22|         1|                 N|         161|         145|           1|       17.0|  1.0|    0.5|       3.3|         0.0|                  1.0|        25.3|                 2.5|        0.0|\n",
      "+--------+--------------------+---------------------+---------------+-------------+----------+------------------+------------+------------+------------+-----------+-----+-------+----------+------------+---------------------+------------+--------------------+-----------+\n",
      "only showing top 5 rows\n",
      "\n"
     ]
    }
   ],
   "source": [
    "# SQL Statement\n",
    "spark.sql('''\n",
    "          select *\n",
    "          from tbl_raw_yellow_taxis\n",
    "          ''').show(n=5)"
   ]
  },
  {
   "cell_type": "markdown",
   "metadata": {},
   "source": [
    "### Let's create a real \"dimension\" table, for our RateCodeID\n",
    "1. Standard rate\n",
    "2. JFK\n",
    "3. Newark\n",
    "4. Nassau or Westchester \n",
    "5. Negotiated fare\n",
    "6. Group ride"
   ]
  },
  {
   "cell_type": "code",
   "execution_count": 7,
   "metadata": {},
   "outputs": [],
   "source": [
    "# Add Rate Code IDs\n",
    "data = [(\"1\", \"Standard rate\"), (\"2\", \"JFK\"), (\"3\", \"Newark\"),(\"4\",\"Nassau or Westchester \"),(\"5\",\"Negotiated fare\"), (\"6\",\"Group ride\")]"
   ]
  },
  {
   "cell_type": "code",
   "execution_count": 8,
   "metadata": {},
   "outputs": [],
   "source": [
    "# Define schema, to ensure data types\n",
    "schema = StructType([ \\\n",
    "    StructField(\"RatecodeID\",StringType(),True), \\\n",
    "    StructField(\"RatecodeName\",StringType(),True)\n",
    "  ])"
   ]
  },
  {
   "cell_type": "code",
   "execution_count": 9,
   "metadata": {},
   "outputs": [],
   "source": [
    "# Create Dataframe for Rate Codes\n",
    "df_rate_codes = spark.createDataFrame(data=data,schema=schema)"
   ]
  },
  {
   "cell_type": "code",
   "execution_count": 10,
   "metadata": {},
   "outputs": [
    {
     "name": "stdout",
     "output_type": "stream",
     "text": [
      "+----------+--------------------+\n",
      "|RatecodeID|        RatecodeName|\n",
      "+----------+--------------------+\n",
      "|         1|       Standard rate|\n",
      "|         2|                 JFK|\n",
      "|         3|              Newark|\n",
      "|         4|Nassau or Westche...|\n",
      "|         5|     Negotiated fare|\n",
      "|         6|          Group ride|\n",
      "+----------+--------------------+\n",
      "\n"
     ]
    }
   ],
   "source": [
    "# Show rates\n",
    "df_rate_codes.show()"
   ]
  },
  {
   "cell_type": "code",
   "execution_count": 11,
   "metadata": {},
   "outputs": [
    {
     "name": "stdout",
     "output_type": "stream",
     "text": [
      "+--------+--------------------+---------------------+---------------+-------------+----------+------------------+------------+------------+------------+-----------+-----+-------+----------+------------+---------------------+------------+--------------------+-----------+----------+---------------+\n",
      "|VendorID|tpep_pickup_datetime|tpep_dropoff_datetime|passenger_count|trip_distance|RatecodeID|store_and_fwd_flag|PULocationID|DOLocationID|payment_type|fare_amount|extra|mta_tax|tip_amount|tolls_amount|improvement_surcharge|total_amount|congestion_surcharge|Airport_fee|RatecodeID|   RatecodeName|\n",
      "+--------+--------------------+---------------------+---------------+-------------+----------+------------------+------------+------------+------------+-----------+-----+-------+----------+------------+---------------------+------------+--------------------+-----------+----------+---------------+\n",
      "|       2| 2023-02-01 00:34:08|  2023-02-01 01:31:55|              1|        50.52|         5|                 N|         219|         265|           1|      180.0|  0.0|    0.5|      36.3|         0.0|                  1.0|       217.8|                 0.0|        0.0|         5|Negotiated fare|\n",
      "|       2| 2023-02-01 00:12:01|  2023-02-01 00:12:16|              1|          0.0|         5|                 N|         231|         231|           2|      75.25|  0.0|    0.0|       0.0|         0.0|                  1.0|       78.75|                 2.5|        0.0|         5|Negotiated fare|\n",
      "|       2| 2023-02-01 00:03:51|  2023-02-01 00:04:11|              4|          0.0|         5|                 N|          22|          22|           1|       55.0|  0.0|    0.0|       5.0|         0.0|                  1.0|        61.0|                 0.0|        0.0|         5|Negotiated fare|\n",
      "|       2| 2023-02-01 00:25:07|  2023-02-01 00:25:25|              1|          0.0|         5|                 N|          79|          79|           1|       82.0|  0.0|    0.0|      17.1|         0.0|                  1.0|       102.6|                 2.5|        0.0|         5|Negotiated fare|\n",
      "|       2| 2023-02-01 00:04:33|  2023-02-01 00:04:48|              4|         0.06|         5|                 N|          88|          87|           1|      125.0|  0.0|    0.0|      15.0|         0.0|                  1.0|       143.5|                 2.5|        0.0|         5|Negotiated fare|\n",
      "+--------+--------------------+---------------------+---------------+-------------+----------+------------------+------------+------------+------------+-----------+-----+-------+----------+------------+---------------------+------------+--------------------+-----------+----------+---------------+\n",
      "only showing top 5 rows\n",
      "\n"
     ]
    }
   ],
   "source": [
    "# Inner join example:\n",
    "df.join(df_rate_codes, df[\"RatecodeID\"] == df_rate_codes[\"RatecodeID\"], \"inner\").show(n=5)"
   ]
  },
  {
   "cell_type": "code",
   "execution_count": 12,
   "metadata": {},
   "outputs": [
    {
     "name": "stdout",
     "output_type": "stream",
     "text": [
      "+--------+--------------------+---------------------+---------------+-------------+----------+------------------+------------+------------+------------+-----------+-----+-------+----------+------------+---------------------+------------+--------------------+-----------+-------------+\n",
      "|VendorID|tpep_pickup_datetime|tpep_dropoff_datetime|passenger_count|trip_distance|RatecodeID|store_and_fwd_flag|PULocationID|DOLocationID|payment_type|fare_amount|extra|mta_tax|tip_amount|tolls_amount|improvement_surcharge|total_amount|congestion_surcharge|Airport_fee| RatecodeName|\n",
      "+--------+--------------------+---------------------+---------------+-------------+----------+------------------+------------+------------+------------+-----------+-----+-------+----------+------------+---------------------+------------+--------------------+-----------+-------------+\n",
      "|       1| 2023-02-01 00:32:53|  2023-02-01 00:34:34|              2|          0.3|         1|                 N|         142|         163|           2|        4.4|  3.5|    0.5|       0.0|         0.0|                  1.0|         9.4|                 2.5|        0.0|Standard rate|\n",
      "|       2| 2023-02-01 00:35:16|  2023-02-01 00:35:30|              1|          0.0|         1|                 N|          71|          71|           4|       -3.0| -1.0|   -0.5|       0.0|         0.0|                 -1.0|        -5.5|                 0.0|        0.0|Standard rate|\n",
      "|       2| 2023-02-01 00:35:16|  2023-02-01 00:35:30|              1|          0.0|         1|                 N|          71|          71|           4|        3.0|  1.0|    0.5|       0.0|         0.0|                  1.0|         5.5|                 0.0|        0.0|Standard rate|\n",
      "|       1| 2023-02-01 00:29:33|  2023-02-01 01:01:38|              0|         18.8|         1|                 N|         132|          26|           1|       70.9| 2.25|    0.5|       0.0|         0.0|                  1.0|       74.65|                 0.0|       1.25|Standard rate|\n",
      "|       2| 2023-02-01 00:12:28|  2023-02-01 00:25:46|              1|         3.22|         1|                 N|         161|         145|           1|       17.0|  1.0|    0.5|       3.3|         0.0|                  1.0|        25.3|                 2.5|        0.0|Standard rate|\n",
      "+--------+--------------------+---------------------+---------------+-------------+----------+------------------+------------+------------+------------+-----------+-----+-------+----------+------------+---------------------+------------+--------------------+-----------+-------------+\n",
      "only showing top 5 rows\n",
      "\n"
     ]
    }
   ],
   "source": [
    "# Inner join example. Using only columns, to avoid duplicating columns from both tables\n",
    "# - for example, see above how RatecodeID shows twice (one for each table joined)\n",
    "df.join(df_rate_codes, df[\"RatecodeID\"] == df_rate_codes[\"RatecodeID\"], \"left\").drop(df_rate_codes[\"RatecodeID\"]).show(n=5)"
   ]
  },
  {
   "cell_type": "code",
   "execution_count": 14,
   "metadata": {},
   "outputs": [
    {
     "name": "stdout",
     "output_type": "stream",
     "text": [
      "+--------+--------------------+---------------------+---------------+-------------+----------+------------------+------------+------------+------------+-----------+-----+-------+----------+------------+---------------------+------------+--------------------+-----------+----------+------------+\n",
      "|VendorID|tpep_pickup_datetime|tpep_dropoff_datetime|passenger_count|trip_distance|RatecodeID|store_and_fwd_flag|PULocationID|DOLocationID|payment_type|fare_amount|extra|mta_tax|tip_amount|tolls_amount|improvement_surcharge|total_amount|congestion_surcharge|Airport_fee|RatecodeID|RatecodeName|\n",
      "+--------+--------------------+---------------------+---------------+-------------+----------+------------------+------------+------------+------------+-----------+-----+-------+----------+------------+---------------------+------------+--------------------+-----------+----------+------------+\n",
      "|       2| 2023-02-01 00:18:00|  2023-02-01 00:25:00|           NULL|         1.16|      NULL|              NULL|         161|         164|           0|       14.4|  0.0|    0.5|      3.68|         0.0|                  1.0|       22.08|                NULL|       NULL|      NULL|        NULL|\n",
      "|       2| 2023-02-01 00:43:32|  2023-02-01 00:53:12|           NULL|         3.19|      NULL|              NULL|         137|         236|           0|      15.98|  0.0|    0.5|      2.96|         0.0|                  1.0|       22.94|                NULL|       NULL|      NULL|        NULL|\n",
      "|       2| 2023-02-01 00:10:00|  2023-02-01 00:51:00|           NULL|        16.26|      NULL|              NULL|         239|         165|           0|      46.97|  0.0|    0.5|     10.19|         0.0|                  1.0|       61.16|                NULL|       NULL|      NULL|        NULL|\n",
      "|       1| 2023-02-01 00:53:34|  2023-02-01 00:59:57|           NULL|          1.1|      NULL|              NULL|         170|         161|           0|        8.6|  1.0|    0.5|      1.36|         0.0|                  1.0|       14.96|                NULL|       NULL|      NULL|        NULL|\n",
      "|       2| 2023-02-01 00:27:08|  2023-02-01 00:33:30|           NULL|         0.75|      NULL|              NULL|         163|         161|           0|       14.4|  0.0|    0.5|       2.0|         0.0|                  1.0|        20.4|                NULL|       NULL|      NULL|        NULL|\n",
      "|       2| 2023-02-01 00:04:10|  2023-02-01 00:17:36|           NULL|         2.55|      NULL|              NULL|         249|         232|           0|      14.94|  0.0|    0.5|      3.79|         0.0|                  1.0|       22.73|                NULL|       NULL|      NULL|        NULL|\n",
      "|       2| 2023-02-01 00:00:00|  2023-02-01 00:15:00|           NULL|          3.1|      NULL|              NULL|         230|          79|           0|      16.83|  0.0|    0.5|      4.17|         0.0|                  1.0|        25.0|                NULL|       NULL|      NULL|        NULL|\n",
      "|       2| 2023-02-01 00:46:06|  2023-02-01 00:58:49|           NULL|         2.06|      NULL|              NULL|         166|          75|           0|       14.5|  0.0|    0.5|       0.0|         0.0|                  1.0|        16.0|                NULL|       NULL|      NULL|        NULL|\n",
      "|       1| 2023-02-01 00:53:26|  2023-02-01 01:09:39|           NULL|          4.2|      NULL|              NULL|         249|         256|           0|       21.9|  1.0|    0.5|      5.38|         0.0|                  1.0|       32.28|                NULL|       NULL|      NULL|        NULL|\n",
      "|       2| 2023-02-01 00:09:00|  2023-02-01 00:23:00|           NULL|          4.1|      NULL|              NULL|          43|         144|           0|      18.24|  0.0|    0.5|       2.0|         0.0|                  1.0|       24.24|                NULL|       NULL|      NULL|        NULL|\n",
      "|       2| 2023-02-01 00:08:54|  2023-02-01 00:41:24|           NULL|         7.04|      NULL|              NULL|          79|         177|           0|      28.07|  0.0|    0.5|      6.41|         0.0|                  1.0|       38.48|                NULL|       NULL|      NULL|        NULL|\n",
      "|       2| 2023-02-01 00:19:00|  2023-02-01 00:43:00|           NULL|         5.68|      NULL|              NULL|         263|         158|           0|      25.95|  0.0|    0.5|       1.0|         0.0|                  1.0|       30.95|                NULL|       NULL|      NULL|        NULL|\n",
      "|       6| 2023-02-01 00:02:09|  2023-02-01 00:02:01|           NULL|         5.54|      NULL|              NULL|         265|          91|           0|      23.92|  0.0|    0.5|       0.0|         0.0|                  0.3|       24.72|                NULL|       NULL|      NULL|        NULL|\n",
      "|       2| 2023-02-01 00:26:09|  2023-02-01 00:39:29|           NULL|         2.57|      NULL|              NULL|         137|          48|           0|      14.82|  0.0|    0.5|       3.0|         0.0|                  1.0|       21.82|                NULL|       NULL|      NULL|        NULL|\n",
      "|       1| 2023-02-01 00:52:18|  2023-02-01 01:23:08|           NULL|          0.0|      NULL|              NULL|         142|          82|           0|       20.0|  1.0|    0.5|      11.0|         0.0|                  1.0|        38.0|                NULL|       NULL|      NULL|        NULL|\n",
      "|       2| 2023-02-01 00:11:51|  2023-02-01 00:26:16|           NULL|         3.46|      NULL|              NULL|         140|          90|           0|      16.27|  0.0|    0.5|      4.05|         0.0|                  1.0|       24.32|                NULL|       NULL|      NULL|        NULL|\n",
      "|       6| 2023-02-01 00:02:05|  2023-02-01 01:02:43|           NULL|          5.1|      NULL|              NULL|         265|          76|           0|      20.89|  0.0|    0.5|       0.0|         0.0|                  0.3|       21.69|                NULL|       NULL|      NULL|        NULL|\n",
      "|       2| 2023-02-01 00:21:00|  2023-02-01 00:31:00|           NULL|         2.57|      NULL|              NULL|         151|         236|           0|      14.77|  0.0|    0.5|      1.88|         0.0|                  1.0|       20.65|                NULL|       NULL|      NULL|        NULL|\n",
      "|       2| 2023-02-01 00:57:00|  2023-02-01 01:13:00|           NULL|         4.29|      NULL|              NULL|         249|         140|           0|       18.3|  0.0|    0.5|      3.34|         0.0|                  1.0|       25.64|                NULL|       NULL|      NULL|        NULL|\n",
      "|       1| 2023-02-01 00:12:52|  2023-02-01 00:18:58|           NULL|          0.7|      NULL|              NULL|         148|           4|           0|        7.9|  1.0|    0.5|      1.29|         0.0|                  1.0|       14.19|                NULL|       NULL|      NULL|        NULL|\n",
      "+--------+--------------------+---------------------+---------------+-------------+----------+------------------+------------+------------+------------+-----------+-----+-------+----------+------------+---------------------+------------+--------------------+-----------+----------+------------+\n",
      "only showing top 20 rows\n",
      "\n"
     ]
    }
   ],
   "source": [
    "# Left join example, showing those WITH NO rate code:\n",
    "df.join(df_rate_codes, df[\"RatecodeID\"] == df_rate_codes[\"RatecodeID\"], \"left\").where(df[\"RatecodeID\"].isNull()).show()"
   ]
  },
  {
   "cell_type": "code",
   "execution_count": 18,
   "metadata": {},
   "outputs": [
    {
     "name": "stdout",
     "output_type": "stream",
     "text": [
      "+----------+--------+\n",
      "|RatecodeID|count(1)|\n",
      "+----------+--------+\n",
      "|      NULL|  255126|\n",
      "|         1| 8849004|\n",
      "|         2|  361464|\n",
      "|         3|   30360|\n",
      "|         4|   15839|\n",
      "+----------+--------+\n",
      "only showing top 5 rows\n",
      "\n"
     ]
    }
   ],
   "source": [
    "# SQL Statement\n",
    "spark.sql('''\n",
    "          select RatecodeID, count(1)\n",
    "          from tbl_raw_yellow_taxis\n",
    "          group by RatecodeID\n",
    "          order by RatecodeID\n",
    "          ''').show(n=5)"
   ]
  },
  {
   "cell_type": "code",
   "execution_count": 25,
   "metadata": {},
   "outputs": [
    {
     "name": "stdout",
     "output_type": "stream",
     "text": [
      "+--------+--------------------+---------------------+---------------+-------------+----------+------------------+------------+------------+------------+-----------+-----+-------+----------+------------+---------------------+------------+--------------------+-----------+\n",
      "|VendorID|tpep_pickup_datetime|tpep_dropoff_datetime|passenger_count|trip_distance|RatecodeID|store_and_fwd_flag|PULocationID|DOLocationID|payment_type|fare_amount|extra|mta_tax|tip_amount|tolls_amount|improvement_surcharge|total_amount|congestion_surcharge|Airport_fee|\n",
      "+--------+--------------------+---------------------+---------------+-------------+----------+------------------+------------+------------+------------+-----------+-----+-------+----------+------------+---------------------+------------+--------------------+-----------+\n",
      "|       1| 2023-02-01 00:32:53|  2023-02-01 00:34:34|              2|          0.3|         1|                 N|         142|         163|           2|        4.4|  3.5|    0.5|       0.0|         0.0|                  1.0|         9.4|                 2.5|        0.0|\n",
      "|       2| 2023-02-01 00:35:16|  2023-02-01 00:35:30|              1|          0.0|         1|                 N|          71|          71|           4|       -3.0| -1.0|   -0.5|       0.0|         0.0|                 -1.0|        -5.5|                 0.0|        0.0|\n",
      "|       2| 2023-02-01 00:35:16|  2023-02-01 00:35:30|              1|          0.0|         1|                 N|          71|          71|           4|        3.0|  1.0|    0.5|       0.0|         0.0|                  1.0|         5.5|                 0.0|        0.0|\n",
      "|       1| 2023-02-01 00:29:33|  2023-02-01 01:01:38|              0|         18.8|         1|                 N|         132|          26|           1|       70.9| 2.25|    0.5|       0.0|         0.0|                  1.0|       74.65|                 0.0|       1.25|\n",
      "|       2| 2023-02-01 00:12:28|  2023-02-01 00:25:46|              1|         3.22|         1|                 N|         161|         145|           1|       17.0|  1.0|    0.5|       3.3|         0.0|                  1.0|        25.3|                 2.5|        0.0|\n",
      "|       1| 2023-02-01 00:52:40|  2023-02-01 01:07:18|              1|          5.1|         1|                 N|         148|         236|           1|       21.9|  3.5|    0.5|      5.35|         0.0|                  1.0|       32.25|                 2.5|        0.0|\n",
      "|       1| 2023-02-01 00:12:39|  2023-02-01 00:40:36|              1|          8.9|         1|                 N|         137|         244|           1|       41.5|  3.5|    0.5|       3.5|         0.0|                  1.0|        50.0|                 2.5|        0.0|\n",
      "|       1| 2023-02-01 00:56:53|  2023-02-01 01:00:37|              1|          1.2|         1|                 N|         263|         141|           1|        7.2|  3.5|    0.5|      2.44|         0.0|                  1.0|       14.64|                 2.5|        0.0|\n",
      "|       2| 2023-02-01 00:20:40|  2023-02-01 00:33:56|              1|         7.49|         1|                 N|          48|         243|           1|       30.3|  1.0|    0.5|      8.82|         0.0|                  1.0|       44.12|                 2.5|        0.0|\n",
      "|       2| 2023-02-01 00:33:51|  2023-02-01 00:37:34|              1|         0.51|         1|                 N|         114|         211|           1|        5.8|  1.0|    0.5|      1.62|         0.0|                  1.0|       12.42|                 2.5|        0.0|\n",
      "|       2| 2023-02-01 01:00:45|  2023-02-01 01:06:00|              1|         0.78|         1|                 N|         114|         249|           1|        7.2|  1.0|    0.5|      2.44|         0.0|                  1.0|       14.64|                 2.5|        0.0|\n",
      "|       2| 2023-02-01 00:10:48|  2023-02-01 00:18:09|              1|         1.57|         1|                 N|         125|         107|           1|       10.0|  1.0|    0.5|       1.0|         0.0|                  1.0|        16.0|                 2.5|        0.0|\n",
      "|       2| 2023-02-01 00:00:28|  2023-02-01 00:12:54|              1|          5.4|         1|                 N|         140|          42|           1|       23.3|  1.0|    0.5|       2.0|         0.0|                  1.0|        30.3|                 2.5|        0.0|\n",
      "|       2| 2023-02-01 00:35:06|  2023-02-01 00:45:47|              1|         3.44|         1|                 N|         140|         226|           1|       16.3|  1.0|    0.5|      4.26|         0.0|                  1.0|       25.56|                 2.5|        0.0|\n",
      "|       2| 2023-02-01 00:06:00|  2023-02-01 00:10:31|              5|         1.03|         1|                 N|         249|          90|           1|        7.2|  1.0|    0.5|      3.05|         0.0|                  1.0|       15.25|                 2.5|        0.0|\n",
      "|       2| 2023-02-01 00:31:02|  2023-02-01 00:41:26|              5|         2.06|         1|                 N|         234|           4|           1|       12.1|  1.0|    0.5|      3.42|         0.0|                  1.0|       20.52|                 2.5|        0.0|\n",
      "|       2| 2023-02-01 00:47:56|  2023-02-01 00:53:02|              5|         0.93|         1|                 N|         114|         125|           1|        7.2|  1.0|    0.5|       0.0|         0.0|                  1.0|        12.2|                 2.5|        0.0|\n",
      "|       1| 2023-02-01 00:01:09|  2023-02-01 00:51:49|              1|         20.3|         2|                 N|         132|         239|           1|       70.0| 3.75|    0.5|     16.35|        6.55|                  1.0|       98.15|                 2.5|       1.25|\n",
      "|       1| 2023-02-01 00:41:47|  2023-02-01 01:14:14|              1|         18.4|         2|                 N|         132|         230|           1|       70.0| 3.75|    0.5|       2.0|        6.55|                  1.0|        83.8|                 2.5|       1.25|\n",
      "|       2| 2023-02-01 00:22:16|  2023-02-01 00:40:34|              2|         4.14|         1|                 N|         140|          68|           2|       21.9|  1.0|    0.5|       0.0|         0.0|                  1.0|        26.9|                 2.5|        0.0|\n",
      "+--------+--------------------+---------------------+---------------+-------------+----------+------------------+------------+------------+------------+-----------+-----+-------+----------+------------+---------------------+------------+--------------------+-----------+\n",
      "only showing top 20 rows\n",
      "\n"
     ]
    }
   ],
   "source": [
    "# If user doesn't want to see NULL values\n",
    "df_na_rate_codes = df.na.fill(value=0,subset=[\"RatecodeID\"])\n",
    "df_na_rate_codes.show()"
   ]
  },
  {
   "cell_type": "code",
   "execution_count": 29,
   "metadata": {},
   "outputs": [
    {
     "name": "stdout",
     "output_type": "stream",
     "text": [
      "+--------+--------------------+---------------------+---------------+-------------+----------+------------------+------------+------------+------------+-----------+-----+-------+----------+------------+---------------------+------------+--------------------+-----------+\n",
      "|VendorID|tpep_pickup_datetime|tpep_dropoff_datetime|passenger_count|trip_distance|RatecodeID|store_and_fwd_flag|PULocationID|DOLocationID|payment_type|fare_amount|extra|mta_tax|tip_amount|tolls_amount|improvement_surcharge|total_amount|congestion_surcharge|Airport_fee|\n",
      "+--------+--------------------+---------------------+---------------+-------------+----------+------------------+------------+------------+------------+-----------+-----+-------+----------+------------+---------------------+------------+--------------------+-----------+\n",
      "+--------+--------------------+---------------------+---------------+-------------+----------+------------------+------------+------------+------------+-----------+-----+-------+----------+------------+---------------------+------------+--------------------+-----------+\n",
      "\n"
     ]
    }
   ],
   "source": [
    "# Left join example, showing those WITH NO rate code:\n",
    "df_na_rate_codes.where(df_na_rate_codes[\"RatecodeID\"].isNull()).show()"
   ]
  },
  {
   "cell_type": "code",
   "execution_count": 30,
   "metadata": {},
   "outputs": [],
   "source": [
    "# Confirm counts\n",
    "df_na_rate_codes.createOrReplaceTempView('tbl_na_rate_codes')"
   ]
  },
  {
   "cell_type": "code",
   "execution_count": 31,
   "metadata": {},
   "outputs": [
    {
     "name": "stdout",
     "output_type": "stream",
     "text": [
      "+----------+--------+\n",
      "|RatecodeID|count(1)|\n",
      "+----------+--------+\n",
      "|         0|  255126|\n",
      "|         6|      14|\n",
      "|         5|   45262|\n",
      "|         1| 8849004|\n",
      "|         3|   30360|\n",
      "+----------+--------+\n",
      "only showing top 5 rows\n",
      "\n"
     ]
    }
   ],
   "source": [
    "# SQL Statement\n",
    "spark.sql('''\n",
    "          select RatecodeID, count(1)\n",
    "          from tbl_na_rate_codes\n",
    "          group by RatecodeID\n",
    "          ''').show(n=5)"
   ]
  },
  {
   "cell_type": "code",
   "execution_count": 32,
   "metadata": {},
   "outputs": [],
   "source": [
    "# Stop the session\n",
    "spark.stop()"
   ]
  }
 ],
 "metadata": {
  "kernelspec": {
   "display_name": "venv",
   "language": "python",
   "name": "python3"
  },
  "language_info": {
   "codemirror_mode": {
    "name": "ipython",
    "version": 3
   },
   "file_extension": ".py",
   "mimetype": "text/x-python",
   "name": "python",
   "nbconvert_exporter": "python",
   "pygments_lexer": "ipython3",
   "version": "3.8.0"
  },
  "orig_nbformat": 4
 },
 "nbformat": 4,
 "nbformat_minor": 2
}
